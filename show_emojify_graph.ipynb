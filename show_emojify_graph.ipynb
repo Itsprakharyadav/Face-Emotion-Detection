{
  "nbformat": 4,
  "nbformat_minor": 0,
  "metadata": {
    "colab": {
      "provenance": [],
      "collapsed_sections": []
    },
    "kernelspec": {
      "name": "python3",
      "display_name": "Python 3"
    },
    "gpuClass": "standard",
    "accelerator": "GPU"
  },
  "cells": [
    {
      "cell_type": "code",
      "source": [
        "from zipfile import ZipFile\n",
        "file_name = \"archive.zip\"\n",
        "\n",
        "with ZipFile(file_name, 'r') as zip:\n",
        "    zip.extractall()\n",
        "    print(\"Done\")"
      ],
      "metadata": {
        "id": "uexc0uNoy2gF",
        "outputId": "bf5a494b-d314-455a-83da-7f064f9c187a",
        "colab": {
          "base_uri": "https://localhost:8080/"
        }
      },
      "execution_count": 1,
      "outputs": [
        {
          "output_type": "stream",
          "name": "stdout",
          "text": [
            "Done\n"
          ]
        }
      ]
    },
    {
      "cell_type": "code",
      "metadata": {
        "id": "tT9qRwU8U5hc"
      },
      "source": [
        "import numpy as np\n",
        "import cv2\n",
        "from keras.models import Sequential\n",
        "from keras.layers import Dense, Dropout, Flatten\n",
        "from keras.layers import Conv2D\n",
        "from keras.optimizers import Adam\n",
        "from keras.layers import MaxPooling2D\n",
        "from keras.preprocessing.image import ImageDataGenerator"
      ],
      "execution_count": 2,
      "outputs": []
    },
    {
      "cell_type": "code",
      "metadata": {
        "id": "S92aXPw8ouRb",
        "outputId": "4fe2fe2d-0775-44a8-f2d7-7f72836c91bd",
        "colab": {
          "base_uri": "https://localhost:8080/"
        }
      },
      "source": [
        "train_dir = 'train'\n",
        "val_dir = 'test'\n",
        "train_datagen = ImageDataGenerator(rescale=1./255)\n",
        "val_datagen = ImageDataGenerator(rescale=1./255)\n",
        "\n",
        "train_generator = train_datagen.flow_from_directory(\n",
        "        train_dir,\n",
        "        target_size=(48,48),\n",
        "        batch_size=64,\n",
        "        color_mode=\"grayscale\",\n",
        "        class_mode='categorical')\n",
        "\n",
        "validation_generator = val_datagen.flow_from_directory(\n",
        "        val_dir,\n",
        "        target_size=(48,48),\n",
        "        batch_size=64,\n",
        "        color_mode=\"grayscale\",\n",
        "        class_mode='categorical')"
      ],
      "execution_count": 3,
      "outputs": [
        {
          "output_type": "stream",
          "name": "stdout",
          "text": [
            "Found 28709 images belonging to 7 classes.\n",
            "Found 7178 images belonging to 7 classes.\n"
          ]
        }
      ]
    },
    {
      "cell_type": "code",
      "metadata": {
        "id": "t74GyVFJU5zy"
      },
      "source": [
        "emotion_model = Sequential()\n",
        "emotion_model.add(Conv2D(32, kernel_size=(3, 3), activation='relu', input_shape=(48,48,1)))\n",
        "emotion_model.add(Conv2D(64, kernel_size=(3, 3), activation='relu'))\n",
        "emotion_model.add(MaxPooling2D(pool_size=(2, 2)))\n",
        "emotion_model.add(Dropout(0.25))\n",
        "emotion_model.add(Conv2D(128, kernel_size=(3, 3), activation='relu'))\n",
        "emotion_model.add(MaxPooling2D(pool_size=(2, 2)))\n",
        "emotion_model.add(Conv2D(128, kernel_size=(3, 3), activation='relu'))\n",
        "emotion_model.add(MaxPooling2D(pool_size=(2, 2)))\n",
        "emotion_model.add(Dropout(0.25))\n",
        "emotion_model.add(Flatten())\n",
        "emotion_model.add(Dense(1024, activation='relu'))\n",
        "emotion_model.add(Dropout(0.5))\n",
        "emotion_model.add(Dense(7, activation='softmax'))"
      ],
      "execution_count": 4,
      "outputs": []
    },
    {
      "cell_type": "code",
      "metadata": {
        "id": "ndB4aIimU5o3",
        "outputId": "1ff1abc2-4a1d-4194-b0fa-3afa2b657a87",
        "colab": {
          "base_uri": "https://localhost:8080/"
        }
      },
      "source": [
        "emotion_model.compile(loss='categorical_crossentropy',optimizer=Adam(lr=0.0001, decay=1e-6),metrics=['accuracy'])\n",
        "emotion_model_info = emotion_model.fit_generator(\n",
        "        train_generator,\n",
        "        steps_per_epoch=28709 // 64,\n",
        "        epochs=100,\n",
        "        validation_data=validation_generator,\n",
        "        validation_steps=7178 // 64)"
      ],
      "execution_count": 25,
      "outputs": [
        {
          "output_type": "stream",
          "name": "stdout",
          "text": [
            "Epoch 1/100\n"
          ]
        },
        {
          "output_type": "stream",
          "name": "stderr",
          "text": [
            "/usr/local/lib/python3.7/dist-packages/ipykernel_launcher.py:7: UserWarning: `Model.fit_generator` is deprecated and will be removed in a future version. Please use `Model.fit`, which supports generators.\n",
            "  import sys\n"
          ]
        },
        {
          "output_type": "stream",
          "name": "stdout",
          "text": [
            "448/448 [==============================] - 28s 32ms/step - loss: 0.3929 - accuracy: 0.8593 - val_loss: 1.2062 - val_accuracy: 0.6221\n",
            "Epoch 2/100\n",
            "448/448 [==============================] - 14s 31ms/step - loss: 0.3731 - accuracy: 0.8673 - val_loss: 1.2266 - val_accuracy: 0.6187\n",
            "Epoch 3/100\n",
            "448/448 [==============================] - 14s 32ms/step - loss: 0.3575 - accuracy: 0.8718 - val_loss: 1.2500 - val_accuracy: 0.6225\n",
            "Epoch 4/100\n",
            "448/448 [==============================] - 14s 31ms/step - loss: 0.3549 - accuracy: 0.8728 - val_loss: 1.2516 - val_accuracy: 0.6170\n",
            "Epoch 5/100\n",
            "448/448 [==============================] - 14s 32ms/step - loss: 0.3422 - accuracy: 0.8790 - val_loss: 1.2410 - val_accuracy: 0.6260\n",
            "Epoch 6/100\n",
            "448/448 [==============================] - 14s 31ms/step - loss: 0.3371 - accuracy: 0.8778 - val_loss: 1.2680 - val_accuracy: 0.6201\n",
            "Epoch 7/100\n",
            "448/448 [==============================] - 15s 34ms/step - loss: 0.3282 - accuracy: 0.8824 - val_loss: 1.2605 - val_accuracy: 0.6228\n",
            "Epoch 8/100\n",
            "448/448 [==============================] - 14s 32ms/step - loss: 0.3180 - accuracy: 0.8871 - val_loss: 1.2680 - val_accuracy: 0.6229\n",
            "Epoch 9/100\n",
            "448/448 [==============================] - 14s 32ms/step - loss: 0.3121 - accuracy: 0.8891 - val_loss: 1.3164 - val_accuracy: 0.6225\n",
            "Epoch 10/100\n",
            "448/448 [==============================] - 14s 32ms/step - loss: 0.2973 - accuracy: 0.8936 - val_loss: 1.2996 - val_accuracy: 0.6230\n",
            "Epoch 11/100\n",
            "448/448 [==============================] - 14s 32ms/step - loss: 0.2892 - accuracy: 0.8957 - val_loss: 1.2901 - val_accuracy: 0.6208\n",
            "Epoch 12/100\n",
            "448/448 [==============================] - 14s 31ms/step - loss: 0.2890 - accuracy: 0.8976 - val_loss: 1.3167 - val_accuracy: 0.6226\n",
            "Epoch 13/100\n",
            "448/448 [==============================] - 14s 31ms/step - loss: 0.2802 - accuracy: 0.8986 - val_loss: 1.3167 - val_accuracy: 0.6175\n",
            "Epoch 14/100\n",
            "448/448 [==============================] - 14s 31ms/step - loss: 0.2790 - accuracy: 0.9000 - val_loss: 1.2995 - val_accuracy: 0.6261\n",
            "Epoch 15/100\n",
            "448/448 [==============================] - 14s 31ms/step - loss: 0.2589 - accuracy: 0.9068 - val_loss: 1.3728 - val_accuracy: 0.6293\n",
            "Epoch 16/100\n",
            "448/448 [==============================] - 14s 31ms/step - loss: 0.2633 - accuracy: 0.9043 - val_loss: 1.3426 - val_accuracy: 0.6218\n",
            "Epoch 17/100\n",
            "448/448 [==============================] - 14s 31ms/step - loss: 0.2555 - accuracy: 0.9073 - val_loss: 1.3589 - val_accuracy: 0.6173\n",
            "Epoch 18/100\n",
            "448/448 [==============================] - 14s 31ms/step - loss: 0.2457 - accuracy: 0.9136 - val_loss: 1.3453 - val_accuracy: 0.6214\n",
            "Epoch 19/100\n",
            "448/448 [==============================] - 14s 31ms/step - loss: 0.2390 - accuracy: 0.9144 - val_loss: 1.3650 - val_accuracy: 0.6244\n",
            "Epoch 20/100\n",
            "448/448 [==============================] - 14s 32ms/step - loss: 0.2420 - accuracy: 0.9131 - val_loss: 1.3713 - val_accuracy: 0.6191\n",
            "Epoch 21/100\n",
            "448/448 [==============================] - 16s 35ms/step - loss: 0.2301 - accuracy: 0.9196 - val_loss: 1.3673 - val_accuracy: 0.6226\n",
            "Epoch 22/100\n",
            "448/448 [==============================] - 14s 31ms/step - loss: 0.2302 - accuracy: 0.9182 - val_loss: 1.3898 - val_accuracy: 0.6207\n",
            "Epoch 23/100\n",
            "448/448 [==============================] - 14s 32ms/step - loss: 0.2238 - accuracy: 0.9214 - val_loss: 1.3676 - val_accuracy: 0.6204\n",
            "Epoch 24/100\n",
            "448/448 [==============================] - 14s 32ms/step - loss: 0.2261 - accuracy: 0.9203 - val_loss: 1.3920 - val_accuracy: 0.6232\n",
            "Epoch 25/100\n",
            "448/448 [==============================] - 14s 32ms/step - loss: 0.2141 - accuracy: 0.9239 - val_loss: 1.4093 - val_accuracy: 0.6196\n",
            "Epoch 26/100\n",
            "448/448 [==============================] - 14s 32ms/step - loss: 0.2126 - accuracy: 0.9249 - val_loss: 1.4373 - val_accuracy: 0.6260\n",
            "Epoch 27/100\n",
            "448/448 [==============================] - 14s 31ms/step - loss: 0.2045 - accuracy: 0.9288 - val_loss: 1.4235 - val_accuracy: 0.6218\n",
            "Epoch 28/100\n",
            "448/448 [==============================] - 14s 31ms/step - loss: 0.2090 - accuracy: 0.9272 - val_loss: 1.4313 - val_accuracy: 0.6223\n",
            "Epoch 29/100\n",
            "448/448 [==============================] - 14s 32ms/step - loss: 0.2049 - accuracy: 0.9273 - val_loss: 1.4653 - val_accuracy: 0.6203\n",
            "Epoch 30/100\n",
            "448/448 [==============================] - 14s 32ms/step - loss: 0.1927 - accuracy: 0.9316 - val_loss: 1.4594 - val_accuracy: 0.6210\n",
            "Epoch 31/100\n",
            "448/448 [==============================] - 14s 31ms/step - loss: 0.1941 - accuracy: 0.9321 - val_loss: 1.4304 - val_accuracy: 0.6236\n",
            "Epoch 32/100\n",
            "448/448 [==============================] - 14s 31ms/step - loss: 0.1883 - accuracy: 0.9338 - val_loss: 1.4327 - val_accuracy: 0.6222\n",
            "Epoch 33/100\n",
            "448/448 [==============================] - 14s 31ms/step - loss: 0.1892 - accuracy: 0.9321 - val_loss: 1.4477 - val_accuracy: 0.6223\n",
            "Epoch 34/100\n",
            "448/448 [==============================] - 15s 34ms/step - loss: 0.1852 - accuracy: 0.9335 - val_loss: 1.4754 - val_accuracy: 0.6230\n",
            "Epoch 35/100\n",
            "448/448 [==============================] - 14s 31ms/step - loss: 0.1785 - accuracy: 0.9364 - val_loss: 1.4687 - val_accuracy: 0.6223\n",
            "Epoch 36/100\n",
            "448/448 [==============================] - 14s 32ms/step - loss: 0.1771 - accuracy: 0.9376 - val_loss: 1.4816 - val_accuracy: 0.6260\n",
            "Epoch 37/100\n",
            "448/448 [==============================] - 14s 31ms/step - loss: 0.1794 - accuracy: 0.9380 - val_loss: 1.4610 - val_accuracy: 0.6210\n",
            "Epoch 38/100\n",
            "448/448 [==============================] - 14s 32ms/step - loss: 0.1742 - accuracy: 0.9399 - val_loss: 1.4851 - val_accuracy: 0.6214\n",
            "Epoch 39/100\n",
            "448/448 [==============================] - 14s 31ms/step - loss: 0.1685 - accuracy: 0.9412 - val_loss: 1.4861 - val_accuracy: 0.6189\n",
            "Epoch 40/100\n",
            "448/448 [==============================] - 14s 31ms/step - loss: 0.1671 - accuracy: 0.9416 - val_loss: 1.5211 - val_accuracy: 0.6196\n",
            "Epoch 41/100\n",
            "448/448 [==============================] - 14s 31ms/step - loss: 0.1714 - accuracy: 0.9398 - val_loss: 1.4845 - val_accuracy: 0.6184\n",
            "Epoch 42/100\n",
            "448/448 [==============================] - 14s 31ms/step - loss: 0.1653 - accuracy: 0.9414 - val_loss: 1.5410 - val_accuracy: 0.6225\n",
            "Epoch 43/100\n",
            "448/448 [==============================] - 14s 31ms/step - loss: 0.1579 - accuracy: 0.9451 - val_loss: 1.5459 - val_accuracy: 0.6251\n",
            "Epoch 44/100\n",
            "448/448 [==============================] - 14s 31ms/step - loss: 0.1586 - accuracy: 0.9447 - val_loss: 1.5249 - val_accuracy: 0.6222\n",
            "Epoch 45/100\n",
            "448/448 [==============================] - 14s 31ms/step - loss: 0.1606 - accuracy: 0.9442 - val_loss: 1.5074 - val_accuracy: 0.6179\n",
            "Epoch 46/100\n",
            "448/448 [==============================] - 14s 31ms/step - loss: 0.1583 - accuracy: 0.9446 - val_loss: 1.5154 - val_accuracy: 0.6222\n",
            "Epoch 47/100\n",
            "448/448 [==============================] - 14s 32ms/step - loss: 0.1538 - accuracy: 0.9477 - val_loss: 1.5402 - val_accuracy: 0.6221\n",
            "Epoch 48/100\n",
            "448/448 [==============================] - 16s 37ms/step - loss: 0.1536 - accuracy: 0.9485 - val_loss: 1.5638 - val_accuracy: 0.6218\n",
            "Epoch 49/100\n",
            "448/448 [==============================] - 14s 31ms/step - loss: 0.1521 - accuracy: 0.9474 - val_loss: 1.5395 - val_accuracy: 0.6226\n",
            "Epoch 50/100\n",
            "448/448 [==============================] - 14s 31ms/step - loss: 0.1525 - accuracy: 0.9466 - val_loss: 1.5423 - val_accuracy: 0.6228\n",
            "Epoch 51/100\n",
            "448/448 [==============================] - 14s 32ms/step - loss: 0.1467 - accuracy: 0.9484 - val_loss: 1.5771 - val_accuracy: 0.6203\n",
            "Epoch 52/100\n",
            "448/448 [==============================] - 14s 32ms/step - loss: 0.1466 - accuracy: 0.9505 - val_loss: 1.5519 - val_accuracy: 0.6243\n",
            "Epoch 53/100\n",
            "448/448 [==============================] - 14s 31ms/step - loss: 0.1422 - accuracy: 0.9511 - val_loss: 1.5633 - val_accuracy: 0.6240\n",
            "Epoch 54/100\n",
            "448/448 [==============================] - 14s 31ms/step - loss: 0.1379 - accuracy: 0.9523 - val_loss: 1.5365 - val_accuracy: 0.6215\n",
            "Epoch 55/100\n",
            "448/448 [==============================] - 14s 32ms/step - loss: 0.1374 - accuracy: 0.9520 - val_loss: 1.5567 - val_accuracy: 0.6225\n",
            "Epoch 56/100\n",
            "448/448 [==============================] - 14s 31ms/step - loss: 0.1390 - accuracy: 0.9515 - val_loss: 1.5933 - val_accuracy: 0.6214\n",
            "Epoch 57/100\n",
            "448/448 [==============================] - 14s 31ms/step - loss: 0.1411 - accuracy: 0.9515 - val_loss: 1.5816 - val_accuracy: 0.6256\n",
            "Epoch 58/100\n",
            "448/448 [==============================] - 14s 31ms/step - loss: 0.1291 - accuracy: 0.9549 - val_loss: 1.5917 - val_accuracy: 0.6251\n",
            "Epoch 59/100\n",
            "448/448 [==============================] - 14s 31ms/step - loss: 0.1344 - accuracy: 0.9530 - val_loss: 1.5930 - val_accuracy: 0.6258\n",
            "Epoch 60/100\n",
            "448/448 [==============================] - 14s 32ms/step - loss: 0.1321 - accuracy: 0.9538 - val_loss: 1.6038 - val_accuracy: 0.6223\n",
            "Epoch 61/100\n",
            "448/448 [==============================] - 14s 32ms/step - loss: 0.1334 - accuracy: 0.9553 - val_loss: 1.6071 - val_accuracy: 0.6260\n",
            "Epoch 62/100\n",
            "448/448 [==============================] - 15s 32ms/step - loss: 0.1291 - accuracy: 0.9542 - val_loss: 1.6767 - val_accuracy: 0.6217\n",
            "Epoch 63/100\n",
            "448/448 [==============================] - 14s 31ms/step - loss: 0.1326 - accuracy: 0.9537 - val_loss: 1.5585 - val_accuracy: 0.6187\n",
            "Epoch 64/100\n",
            "448/448 [==============================] - 14s 32ms/step - loss: 0.1262 - accuracy: 0.9561 - val_loss: 1.5935 - val_accuracy: 0.6246\n",
            "Epoch 65/100\n",
            "448/448 [==============================] - 14s 32ms/step - loss: 0.1232 - accuracy: 0.9571 - val_loss: 1.6114 - val_accuracy: 0.6211\n",
            "Epoch 66/100\n",
            "448/448 [==============================] - 14s 32ms/step - loss: 0.1231 - accuracy: 0.9581 - val_loss: 1.6507 - val_accuracy: 0.6217\n",
            "Epoch 67/100\n",
            "448/448 [==============================] - 14s 32ms/step - loss: 0.1239 - accuracy: 0.9579 - val_loss: 1.6184 - val_accuracy: 0.6218\n",
            "Epoch 68/100\n",
            "448/448 [==============================] - 14s 32ms/step - loss: 0.1170 - accuracy: 0.9614 - val_loss: 1.6052 - val_accuracy: 0.6226\n",
            "Epoch 69/100\n",
            "448/448 [==============================] - 14s 32ms/step - loss: 0.1186 - accuracy: 0.9604 - val_loss: 1.6521 - val_accuracy: 0.6215\n",
            "Epoch 70/100\n",
            "448/448 [==============================] - 14s 31ms/step - loss: 0.1175 - accuracy: 0.9602 - val_loss: 1.6430 - val_accuracy: 0.6197\n",
            "Epoch 71/100\n",
            "448/448 [==============================] - 14s 32ms/step - loss: 0.1197 - accuracy: 0.9591 - val_loss: 1.6403 - val_accuracy: 0.6219\n",
            "Epoch 72/100\n",
            "448/448 [==============================] - 14s 31ms/step - loss: 0.1182 - accuracy: 0.9593 - val_loss: 1.6297 - val_accuracy: 0.6218\n",
            "Epoch 73/100\n",
            "448/448 [==============================] - 14s 31ms/step - loss: 0.1089 - accuracy: 0.9602 - val_loss: 1.6523 - val_accuracy: 0.6157\n",
            "Epoch 74/100\n",
            "448/448 [==============================] - 14s 31ms/step - loss: 0.1143 - accuracy: 0.9617 - val_loss: 1.6413 - val_accuracy: 0.6170\n",
            "Epoch 75/100\n",
            "448/448 [==============================] - 14s 31ms/step - loss: 0.1180 - accuracy: 0.9588 - val_loss: 1.6441 - val_accuracy: 0.6189\n",
            "Epoch 76/100\n",
            "448/448 [==============================] - 14s 31ms/step - loss: 0.1152 - accuracy: 0.9593 - val_loss: 1.6463 - val_accuracy: 0.6217\n",
            "Epoch 77/100\n",
            "448/448 [==============================] - 14s 32ms/step - loss: 0.1168 - accuracy: 0.9599 - val_loss: 1.6681 - val_accuracy: 0.6228\n",
            "Epoch 78/100\n",
            "448/448 [==============================] - 14s 31ms/step - loss: 0.1089 - accuracy: 0.9632 - val_loss: 1.6268 - val_accuracy: 0.6159\n",
            "Epoch 79/100\n",
            "448/448 [==============================] - 14s 32ms/step - loss: 0.1091 - accuracy: 0.9629 - val_loss: 1.6580 - val_accuracy: 0.6240\n",
            "Epoch 80/100\n",
            "448/448 [==============================] - 14s 32ms/step - loss: 0.1064 - accuracy: 0.9628 - val_loss: 1.7022 - val_accuracy: 0.6194\n",
            "Epoch 81/100\n",
            "448/448 [==============================] - 14s 31ms/step - loss: 0.1124 - accuracy: 0.9618 - val_loss: 1.6836 - val_accuracy: 0.6208\n",
            "Epoch 82/100\n",
            "448/448 [==============================] - 14s 31ms/step - loss: 0.1091 - accuracy: 0.9622 - val_loss: 1.6855 - val_accuracy: 0.6222\n",
            "Epoch 83/100\n",
            "448/448 [==============================] - 14s 31ms/step - loss: 0.1055 - accuracy: 0.9626 - val_loss: 1.6831 - val_accuracy: 0.6254\n",
            "Epoch 84/100\n",
            "448/448 [==============================] - 14s 32ms/step - loss: 0.1057 - accuracy: 0.9637 - val_loss: 1.6936 - val_accuracy: 0.6215\n",
            "Epoch 85/100\n",
            "448/448 [==============================] - 14s 31ms/step - loss: 0.1026 - accuracy: 0.9643 - val_loss: 1.7585 - val_accuracy: 0.6210\n",
            "Epoch 86/100\n",
            "448/448 [==============================] - 14s 32ms/step - loss: 0.1028 - accuracy: 0.9637 - val_loss: 1.7357 - val_accuracy: 0.6246\n",
            "Epoch 87/100\n",
            "448/448 [==============================] - 14s 32ms/step - loss: 0.1017 - accuracy: 0.9645 - val_loss: 1.6253 - val_accuracy: 0.6217\n",
            "Epoch 88/100\n",
            "448/448 [==============================] - 14s 32ms/step - loss: 0.1019 - accuracy: 0.9647 - val_loss: 1.7150 - val_accuracy: 0.6237\n",
            "Epoch 89/100\n",
            "448/448 [==============================] - 14s 31ms/step - loss: 0.1047 - accuracy: 0.9638 - val_loss: 1.6954 - val_accuracy: 0.6246\n",
            "Epoch 90/100\n",
            "448/448 [==============================] - 14s 32ms/step - loss: 0.1013 - accuracy: 0.9662 - val_loss: 1.7489 - val_accuracy: 0.6228\n",
            "Epoch 91/100\n",
            "448/448 [==============================] - 17s 37ms/step - loss: 0.1008 - accuracy: 0.9653 - val_loss: 1.6936 - val_accuracy: 0.6169\n",
            "Epoch 92/100\n",
            "448/448 [==============================] - 14s 32ms/step - loss: 0.1003 - accuracy: 0.9660 - val_loss: 1.6973 - val_accuracy: 0.6215\n",
            "Epoch 93/100\n",
            "448/448 [==============================] - 14s 32ms/step - loss: 0.1007 - accuracy: 0.9661 - val_loss: 1.6792 - val_accuracy: 0.6212\n",
            "Epoch 94/100\n",
            "448/448 [==============================] - 14s 32ms/step - loss: 0.0965 - accuracy: 0.9670 - val_loss: 1.7469 - val_accuracy: 0.6203\n",
            "Epoch 95/100\n",
            "448/448 [==============================] - 14s 31ms/step - loss: 0.0997 - accuracy: 0.9661 - val_loss: 1.7135 - val_accuracy: 0.6272\n",
            "Epoch 96/100\n",
            "448/448 [==============================] - 14s 31ms/step - loss: 0.0962 - accuracy: 0.9669 - val_loss: 1.7579 - val_accuracy: 0.6201\n",
            "Epoch 97/100\n",
            "448/448 [==============================] - 14s 32ms/step - loss: 0.0946 - accuracy: 0.9686 - val_loss: 1.7165 - val_accuracy: 0.6239\n",
            "Epoch 98/100\n",
            "448/448 [==============================] - 14s 32ms/step - loss: 0.1009 - accuracy: 0.9657 - val_loss: 1.7182 - val_accuracy: 0.6229\n",
            "Epoch 99/100\n",
            "448/448 [==============================] - 14s 32ms/step - loss: 0.0949 - accuracy: 0.9666 - val_loss: 1.7230 - val_accuracy: 0.6184\n",
            "Epoch 100/100\n",
            "448/448 [==============================] - 15s 32ms/step - loss: 0.0927 - accuracy: 0.9688 - val_loss: 1.7644 - val_accuracy: 0.6229\n"
          ]
        }
      ]
    },
    {
      "cell_type": "code",
      "metadata": {
        "id": "udLyFoZ7XiW9"
      },
      "source": [
        "#Saving the model\n",
        "emotion_model.save('model.h5')"
      ],
      "execution_count": 26,
      "outputs": []
    },
    {
      "cell_type": "code",
      "metadata": {
        "id": "OpqMYqG_M4oV"
      },
      "source": [
        "from keras.models import load_model\n",
        "emotion_model = load_model('model.h5')"
      ],
      "execution_count": 27,
      "outputs": []
    },
    {
      "cell_type": "code",
      "metadata": {
        "id": "pazcXGdiM8v_"
      },
      "source": [
        "def emotion_analysis(emotions):\n",
        "    objects = ('angry', 'disgust', 'fear', 'happy', 'sad', 'surprise', 'neutral')\n",
        "    y_pos = np.arange(len(objects))\n",
        "    \n",
        "    plt.bar(y_pos, emotions, align='center', alpha=0.5)\n",
        "    plt.xticks(y_pos, objects)\n",
        "    plt.ylabel('percentage')\n",
        "    plt.title('emotion')\n",
        "    \n",
        "    plt.show()"
      ],
      "execution_count": 28,
      "outputs": []
    },
    {
      "cell_type": "code",
      "metadata": {
        "id": "_3hXn_ASNO0V"
      },
      "source": [
        "#CODE for Capturing an image on Colab from here: https://colab.research.google.com/notebook#fileId=1OnUy6eFE7XhdfGfAHDCqQxpwueTOj_NO\n",
        "\n",
        "from IPython.display import display, Javascript\n",
        "from google.colab.output import eval_js\n",
        "from base64 import b64decode\n",
        "\n",
        "def take_photo(filename='photo.jpg', quality=0.8):\n",
        "  js = Javascript('''\n",
        "    async function takePhoto(quality) {\n",
        "      const div = document.createElement('div');\n",
        "      const capture = document.createElement('button');\n",
        "      capture.textContent = 'Capture';\n",
        "      div.appendChild(capture);\n",
        "\n",
        "      const video = document.createElement('video');\n",
        "      video.style.display = 'block';\n",
        "      const stream = await navigator.mediaDevices.getUserMedia({video: true});\n",
        "\n",
        "      document.body.appendChild(div);\n",
        "      div.appendChild(video);\n",
        "      video.srcObject = stream;\n",
        "      await video.play();\n",
        "\n",
        "      // Resize the output to fit the video element.\n",
        "      google.colab.output.setIframeHeight(document.documentElement.scrollHeight, true);\n",
        "\n",
        "      // Wait for Capture to be clicked.\n",
        "      await new Promise((resolve) => capture.onclick = resolve);\n",
        "\n",
        "      const canvas = document.createElement('canvas');\n",
        "      canvas.width = video.videoWidth;\n",
        "      canvas.height = video.videoHeight;\n",
        "      canvas.getContext('2d').drawImage(video, 0, 0);\n",
        "      stream.getVideoTracks()[0].stop();\n",
        "      div.remove();\n",
        "      return canvas.toDataURL('image/jpeg', quality);\n",
        "    }\n",
        "    ''')\n",
        "  display(js)\n",
        "  data = eval_js('takePhoto({})'.format(quality))\n",
        "  binary = b64decode(data.split(',')[1])\n",
        "  with open(filename, 'wb') as f:\n",
        "    f.write(binary)\n",
        "  return filename"
      ],
      "execution_count": 29,
      "outputs": []
    },
    {
      "cell_type": "code",
      "metadata": {
        "id": "ELxE3d9nwjjm",
        "outputId": "17d52ce0-9113-4e4b-9199-6c5bb9b0da61",
        "colab": {
          "base_uri": "https://localhost:8080/",
          "height": 35
        }
      },
      "source": [
        "take_photo()"
      ],
      "execution_count": 33,
      "outputs": [
        {
          "output_type": "display_data",
          "data": {
            "text/plain": [
              "<IPython.core.display.Javascript object>"
            ],
            "application/javascript": [
              "\n",
              "    async function takePhoto(quality) {\n",
              "      const div = document.createElement('div');\n",
              "      const capture = document.createElement('button');\n",
              "      capture.textContent = 'Capture';\n",
              "      div.appendChild(capture);\n",
              "\n",
              "      const video = document.createElement('video');\n",
              "      video.style.display = 'block';\n",
              "      const stream = await navigator.mediaDevices.getUserMedia({video: true});\n",
              "\n",
              "      document.body.appendChild(div);\n",
              "      div.appendChild(video);\n",
              "      video.srcObject = stream;\n",
              "      await video.play();\n",
              "\n",
              "      // Resize the output to fit the video element.\n",
              "      google.colab.output.setIframeHeight(document.documentElement.scrollHeight, true);\n",
              "\n",
              "      // Wait for Capture to be clicked.\n",
              "      await new Promise((resolve) => capture.onclick = resolve);\n",
              "\n",
              "      const canvas = document.createElement('canvas');\n",
              "      canvas.width = video.videoWidth;\n",
              "      canvas.height = video.videoHeight;\n",
              "      canvas.getContext('2d').drawImage(video, 0, 0);\n",
              "      stream.getVideoTracks()[0].stop();\n",
              "      div.remove();\n",
              "      return canvas.toDataURL('image/jpeg', quality);\n",
              "    }\n",
              "    "
            ]
          },
          "metadata": {}
        },
        {
          "output_type": "execute_result",
          "data": {
            "text/plain": [
              "'photo.jpg'"
            ],
            "application/vnd.google.colaboratory.intrinsic+json": {
              "type": "string"
            }
          },
          "metadata": {},
          "execution_count": 33
        }
      ]
    },
    {
      "cell_type": "code",
      "metadata": {
        "id": "QMyrDnhWX_Zj",
        "outputId": "f6cf1397-34de-45b3-9ac7-e0212d9ed842",
        "colab": {
          "base_uri": "https://localhost:8080/",
          "height": 583
        }
      },
      "source": [
        "import cv2\n",
        "            \n",
        "def facecrop(image):  \n",
        "    facedata = '/content/haarcascade_frontalface_alt.xml'\n",
        "    cascade = cv2.CascadeClassifier(facedata)\n",
        "\n",
        "    img = cv2.imread(image)\n",
        "\n",
        "    try:\n",
        "    \n",
        "        minisize = (img.shape[1],img.shape[0])\n",
        "        miniframe = cv2.resize(img, minisize)\n",
        "\n",
        "        faces = cascade.detectMultiScale(miniframe)\n",
        "\n",
        "        for f in faces:\n",
        "            x, y, w, h = [ v for v in f ]\n",
        "            cv2.rectangle(img, (x,y), (x+w,y+h), (0,255,0), 2)\n",
        "\n",
        "            sub_face = img[y:y+h, x:x+w]\n",
        "\n",
        "            \n",
        "            cv2.imwrite('photo.jpg', sub_face)\n",
        "            #print (\"Writing: \" + image)\n",
        "\n",
        "    except Exception as e:\n",
        "        print (e)\n",
        "\n",
        "   \n",
        "\n",
        "\n",
        "if __name__ == '__main__':\n",
        "    facecrop('/content/photo.jpg')\n",
        "\n",
        "#Testing a file.\n",
        "\n",
        "from tensorflow.keras.preprocessing import image\n",
        "from keras.preprocessing.image import ImageDataGenerator\n",
        "\n",
        "import numpy as np\n",
        "import matplotlib.pyplot as plt\n",
        "\n",
        "\n",
        "file = '/content/photo.jpg'\n",
        "true_image = image.load_img(file)\n",
        "img = image.load_img(file, color_mode=\"grayscale\", target_size=(48, 48))\n",
        "\n",
        "x = image.img_to_array(img)\n",
        "x = np.expand_dims(x, axis = 0)\n",
        "\n",
        "x /= 255\n",
        "\n",
        "custom = emotion_model.predict(x)\n",
        "emotion_analysis(custom[0])\n",
        "\n",
        "x = np.array(x, 'float32')\n",
        "x = x.reshape([48, 48]);\n",
        "\n",
        "\n",
        "plt.imshow(true_image)\n",
        "plt.show()"
      ],
      "execution_count": 36,
      "outputs": [
        {
          "output_type": "stream",
          "name": "stdout",
          "text": [
            "OpenCV(4.6.0) /io/opencv/modules/objdetect/src/cascadedetect.cpp:1689: error: (-215:Assertion failed) !empty() in function 'detectMultiScale'\n",
            "\n",
            "1/1 [==============================] - 0s 17ms/step\n"
          ]
        },
        {
          "output_type": "display_data",
          "data": {
            "text/plain": [
              "<Figure size 432x288 with 1 Axes>"
            ],
            "image/png": "[encoded data removed]"
          },
          "metadata": {
            "needs_background": "light"
          }
        },
        {
          "output_type": "display_data",
          "data": {
            "text/plain": [
              "<Figure size 432x288 with 1 Axes>"
            ],
            "image/png": "[encoded data removed]"
          },
          "metadata": {
            "needs_background": "light"
          }
        }
      ]
    },
    {
      "cell_type": "code",
      "metadata": {
        "id": "rF8p4ybgoflu"
      },
      "source": [],
      "execution_count": null,
      "outputs": []
    }
  ]
}